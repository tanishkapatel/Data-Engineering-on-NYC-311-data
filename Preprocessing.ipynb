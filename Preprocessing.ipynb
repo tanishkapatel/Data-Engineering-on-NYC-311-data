{
 "cells": [
  {
   "cell_type": "markdown",
   "metadata": {},
   "source": [
    "<h3>Creating a spark session</h3>"
   ]
  },
  {
   "cell_type": "code",
   "execution_count": 1,
   "metadata": {},
   "outputs": [],
   "source": [
    "from pyspark.sql import SparkSession\n",
    "from pyspark.sql.functions import *\n",
    "from pyspark import SparkContext\n",
    "from pyspark.sql.types import *\n",
    "from pyspark.ml.feature import *\n",
    "\n",
    "spark = SparkSession.builder.appName(\"Project\").getOrCreate()\n",
    "sc = spark.sparkContext"
   ]
  },
  {
   "cell_type": "code",
   "execution_count": 2,
   "metadata": {},
   "outputs": [
    {
     "data": {
      "text/html": [
       "\n",
       "        <div>\n",
       "            <p><b>SparkContext</b></p>\n",
       "\n",
       "            <p><a href=\"http://DESKTOP-PS6RADL:4040\">Spark UI</a></p>\n",
       "\n",
       "            <dl>\n",
       "              <dt>Version</dt>\n",
       "                <dd><code>v2.4.5</code></dd>\n",
       "              <dt>Master</dt>\n",
       "                <dd><code>local[*]</code></dd>\n",
       "              <dt>AppName</dt>\n",
       "                <dd><code>Project</code></dd>\n",
       "            </dl>\n",
       "        </div>\n",
       "        "
      ],
      "text/plain": [
       "<SparkContext master=local[*] appName=Project>"
      ]
     },
     "execution_count": 2,
     "metadata": {},
     "output_type": "execute_result"
    }
   ],
   "source": [
    "sc"
   ]
  },
  {
   "cell_type": "markdown",
   "metadata": {},
   "source": [
    "<h3>Loading csv into a dataframe</h3>"
   ]
  },
  {
   "cell_type": "code",
   "execution_count": 3,
   "metadata": {
    "scrolled": false
   },
   "outputs": [
    {
     "name": "stdout",
     "output_type": "stream",
     "text": [
      "+----------+--------------------+--------------------+------+--------------------+--------------------+--------------------+-------------------+------------+--------------------+------------------+------------------+------------------+---------------------+---------------------+------------+---------------+--------+-------------+------+--------------------+----------------------+------------------------------+---------------+---------+--------------------------+--------------------------+------------------+------------+-----------+-------------+-------------+-----------+-------------------+--------------+-----------+------------+-----------+----------------+----------------------------+------------+--------------------+---------------------+-------------------+------------------------+---------+----------------------+---------------+---------------+-------------------+------------------+------------------+--------------------+\n",
      "|Unique Key|        Created Date|         Closed Date|Agency|         Agency Name|      Complaint Type|          Descriptor|      Location Type|Incident Zip|    Incident Address|       Street Name|    Cross Street 1|    Cross Street 2|Intersection Street 1|Intersection Street 2|Address Type|           City|Landmark|Facility Type|Status|            Due Date|Resolution Description|Resolution Action Updated Date|Community Board|  Borough|X Coordinate (State Plane)|Y Coordinate (State Plane)|Park Facility Name|Park Borough|School Name|School Number|School Region|School Code|School Phone Number|School Address|School City|School State| School Zip|School Not Found|School or Citywide Complaint|Vehicle Type|Taxi Company Borough|Taxi Pick Up Location|Bridge Highway Name|Bridge Highway Direction|Road Ramp|Bridge Highway Segment|Garage Lot Name|Ferry Direction|Ferry Terminal Name|          Latitude|         Longitude|            Location|\n",
      "+----------+--------------------+--------------------+------+--------------------+--------------------+--------------------+-------------------+------------+--------------------+------------------+------------------+------------------+---------------------+---------------------+------------+---------------+--------+-------------+------+--------------------+----------------------+------------------------------+---------------+---------+--------------------------+--------------------------+------------------+------------+-----------+-------------+-------------+-----------+-------------------+--------------+-----------+------------+-----------+----------------+----------------------------+------------+--------------------+---------------------+-------------------+------------------------+---------+----------------------+---------------+---------------+-------------------+------------------+------------------+--------------------+\n",
      "|  32310363|12/31/2015 11:59:...|01/01/2016 12:55:...|  NYPD|New York City Pol...|Noise - Street/Si...|    Loud Music/Party|    Street/Sidewalk|       10034| 71 VERMILYEA AVENUE|  VERMILYEA AVENUE|    ACADEMY STREET|   WEST 204 STREET|                 null|                 null|     ADDRESS|       NEW YORK|    null|     Precinct|Closed|01/01/2016 07:59:...|  The Police Depart...|          01/01/2016 12:55:...|   12 MANHATTAN|MANHATTAN|                   1005409|                    254678|       Unspecified|   MANHATTAN|Unspecified|  Unspecified|  Unspecified|Unspecified|        Unspecified|   Unspecified|Unspecified| Unspecified|Unspecified|               N|                        null|        null|                null|                 null|               null|                    null|     null|                  null|           null|           null|               null| 40.86568153633767|-73.92350095571744|(40.8656815363376...|\n",
      "|  32309934|12/31/2015 11:59:...|01/01/2016 01:26:...|  NYPD|New York City Pol...|    Blocked Driveway|           No Access|    Street/Sidewalk|       11105|     27-07 23 AVENUE|         23 AVENUE|         27 STREET|         28 STREET|                 null|                 null|     ADDRESS|        ASTORIA|    null|     Precinct|Closed|01/01/2016 07:59:...|  The Police Depart...|          01/01/2016 01:26:...|      01 QUEENS|   QUEENS|                   1007766|                    221986|       Unspecified|      QUEENS|Unspecified|  Unspecified|  Unspecified|Unspecified|        Unspecified|   Unspecified|Unspecified| Unspecified|Unspecified|               N|                        null|        null|                null|                 null|               null|                    null|     null|                  null|           null|           null|               null|40.775945312321085|-73.91509393898605|(40.7759453123210...|\n",
      "|  32309159|12/31/2015 11:59:...|01/01/2016 04:51:...|  NYPD|New York City Pol...|    Blocked Driveway|           No Access|    Street/Sidewalk|       10458|2897 VALENTINE AV...|  VALENTINE AVENUE|   EAST 198 STREET|   EAST 199 STREET|                 null|                 null|     ADDRESS|          BRONX|    null|     Precinct|Closed|01/01/2016 07:59:...|  The Police Depart...|          01/01/2016 04:51:...|       07 BRONX|    BRONX|                   1015081|                    256380|       Unspecified|       BRONX|Unspecified|  Unspecified|  Unspecified|Unspecified|        Unspecified|   Unspecified|Unspecified| Unspecified|Unspecified|               N|                        null|        null|                null|                 null|               null|                    null|     null|                  null|           null|           null|               null|40.870324522111424|-73.88852464418646|(40.8703245221114...|\n",
      "|  32305098|12/31/2015 11:57:...|01/01/2016 07:43:...|  NYPD|New York City Pol...|     Illegal Parking|Commercial Overni...|    Street/Sidewalk|       10461| 2940 BAISLEY AVENUE|    BAISLEY AVENUE|     EDISON AVENUE|          B STREET|                 null|                 null|     ADDRESS|          BRONX|    null|     Precinct|Closed|01/01/2016 07:57:...|  The Police Depart...|          01/01/2016 07:43:...|       10 BRONX|    BRONX|                   1031740|                    243899|       Unspecified|       BRONX|Unspecified|  Unspecified|  Unspecified|Unspecified|        Unspecified|   Unspecified|Unspecified| Unspecified|Unspecified|               N|                        null|        null|                null|                 null|               null|                    null|     null|                  null|           null|           null|               null| 40.83599404683083|-73.82837939584206|(40.8359940468308...|\n",
      "|  32306529|12/31/2015 11:56:...|01/01/2016 03:24:...|  NYPD|New York City Pol...|     Illegal Parking|    Blocked Sidewalk|    Street/Sidewalk|       11373|       87-14 57 ROAD|           57 ROAD|    SEABURY STREET|     HOFFMAN DRIVE|                 null|                 null|     ADDRESS|       ELMHURST|    null|     Precinct|Closed|01/01/2016 07:56:...|  The Police Depart...|          01/01/2016 03:24:...|      04 QUEENS|   QUEENS|                   1019123|                    206375|       Unspecified|      QUEENS|Unspecified|  Unspecified|  Unspecified|Unspecified|        Unspecified|   Unspecified|Unspecified| Unspecified|Unspecified|               N|                        null|        null|                null|                 null|               null|                    null|     null|                  null|           null|           null|               null|40.733059618956815|-73.87416975810375|(40.7330596189568...|\n",
      "|  32306554|12/31/2015 11:56:...|01/01/2016 01:50:...|  NYPD|New York City Pol...|     Illegal Parking|Posted Parking Si...|    Street/Sidewalk|       11215|       260 21 STREET|         21 STREET|          5 AVENUE|          6 AVENUE|                 null|                 null|     ADDRESS|       BROOKLYN|    null|     Precinct|Closed|01/01/2016 07:56:...|  The Police Depart...|          01/01/2016 01:50:...|    07 BROOKLYN| BROOKLYN|                    986312|                    180032|       Unspecified|    BROOKLYN|Unspecified|  Unspecified|  Unspecified|Unspecified|        Unspecified|   Unspecified|Unspecified| Unspecified|Unspecified|               N|                        null|        null|                null|                 null|               null|                    null|     null|                  null|           null|           null|               null| 40.66082272389114|-73.99256786342693|(40.6608227238911...|\n",
      "|  32306559|12/31/2015 11:55:...|01/01/2016 01:53:...|  NYPD|New York City Pol...|     Illegal Parking|     Blocked Hydrant|    Street/Sidewalk|       10032| 524 WEST 169 STREET|   WEST 169 STREET|  AMSTERDAM AVENUE|    AUDUBON AVENUE|                 null|                 null|     ADDRESS|       NEW YORK|    null|     Precinct|Closed|01/01/2016 07:55:...|  The Police Depart...|          01/01/2016 01:53:...|   12 MANHATTAN|MANHATTAN|                   1001578|                    245627|       Unspecified|   MANHATTAN|Unspecified|  Unspecified|  Unspecified|Unspecified|        Unspecified|   Unspecified|Unspecified| Unspecified|Unspecified|               N|                        null|        null|                null|                 null|               null|                    null|     null|                  null|           null|           null|               null|40.840847591440415| -73.9373750864581|(40.8408475914404...|\n",
      "|  32307009|12/31/2015 11:54:...|01/01/2016 01:42:...|  NYPD|New York City Pol...|    Blocked Driveway|           No Access|    Street/Sidewalk|       10457| 501 EAST 171 STREET|   EAST 171 STREET| WASHINGTON AVENUE|          3 AVENUE|                 null|                 null|     ADDRESS|          BRONX|    null|     Precinct|Closed|01/01/2016 07:54:...|  The Police Depart...|          01/01/2016 01:42:...|       03 BRONX|    BRONX|                   1011117|                    244417|       Unspecified|       BRONX|Unspecified|  Unspecified|  Unspecified|Unspecified|        Unspecified|   Unspecified|Unspecified| Unspecified|Unspecified|               N|                        null|        null|                null|                 null|               null|                    null|     null|                  null|           null|           null|               null| 40.83750262540012|-73.90290517326568|(40.8375026254001...|\n",
      "|  32308581|12/31/2015 11:53:...|01/01/2016 08:27:...|  NYPD|New York City Pol...|     Illegal Parking|Posted Parking Si...|    Street/Sidewalk|       11415|83-44 LEFFERTS BO...|LEFFERTS BOULEVARD|              BEND|              BEND|                 null|                 null|     ADDRESS|    KEW GARDENS|    null|     Precinct|Closed|01/01/2016 07:53:...|  The Police Depart...|          01/01/2016 08:27:...|      09 QUEENS|   QUEENS|                   1030662|                    196163|       Unspecified|      QUEENS|Unspecified|  Unspecified|  Unspecified|Unspecified|        Unspecified|   Unspecified|Unspecified| Unspecified|Unspecified|               N|                        null|        null|                null|                 null|               null|                    null|     null|                  null|           null|           null|               null|40.704977164399935| -73.8326047502584|(40.7049771643999...|\n",
      "|  32308391|12/31/2015 11:53:...|01/01/2016 01:17:...|  NYPD|New York City Pol...|    Blocked Driveway|           No Access|    Street/Sidewalk|       11219|      1408 66 STREET|         66 STREET|         14 AVENUE|NEW UTRECHT AVENUE|                 null|                 null|     ADDRESS|       BROOKLYN|    null|     Precinct|Closed|01/01/2016 07:53:...|  The Police Depart...|          01/01/2016 01:17:...|    11 BROOKLYN| BROOKLYN|                    984378|                    166541|       Unspecified|    BROOKLYN|Unspecified|  Unspecified|  Unspecified|Unspecified|        Unspecified|   Unspecified|Unspecified| Unspecified|Unspecified|               N|                        null|        null|                null|                 null|               null|                    null|     null|                  null|           null|           null|               null|40.623793065806524|-73.99953890121567|(40.6237930658065...|\n",
      "|  32305071|12/31/2015 11:52:...|01/01/2016 07:41:...|  NYPD|New York City Pol...|    Blocked Driveway|           No Access|    Street/Sidewalk|       11372|     34-06 73 STREET|         73 STREET|         34 AVENUE|         35 AVENUE|                 null|                 null|     ADDRESS|JACKSON HEIGHTS|    null|     Precinct|Closed|01/01/2016 07:52:...|  The Police Depart...|          01/01/2016 07:41:...|      03 QUEENS|   QUEENS|                   1013795|                    213487|       Unspecified|      QUEENS|Unspecified|  Unspecified|  Unspecified|Unspecified|        Unspecified|   Unspecified|Unspecified| Unspecified|Unspecified|               N|                        null|        null|                null|                 null|               null|                    null|     null|                  null|           null|           null|               null|40.752599671969676| -73.8933632141368|(40.7525996719696...|\n",
      "|  32306260|12/31/2015 11:50:...|01/01/2016 10:58:...|  NYPD|New York City Pol...|    Blocked Driveway|           No Access|    Street/Sidewalk|       10453|1770 UNDERCLIFF A...| UNDERCLIFF AVENUE|   WEST 176 STREET|   SEDGWICK AVENUE|                 null|                 null|     ADDRESS|          BRONX|    null|     Precinct|Closed|01/01/2016 07:50:...|  The Police Depart...|          01/01/2016 10:58:...|       05 BRONX|    BRONX|                   1006383|                    249532|       Unspecified|       BRONX|Unspecified|  Unspecified|  Unspecified|Unspecified|        Unspecified|   Unspecified|Unspecified| Unspecified|Unspecified|               N|                        null|        null|                null|                 null|               null|                    null|     null|                  null|           null|           null|               null| 40.85155492779258|-73.91999651358469|(40.8515549277925...|\n",
      "|  32306612|12/31/2015 11:48:...|01/01/2016 02:17:...|  NYPD|New York City Pol...|Noise - Street/Si...|    Loud Music/Party|    Street/Sidewalk|       10461| 1701 PILGRIM AVENUE|    PILGRIM AVENUE|    ROBERTS AVENUE|WESTCHESTER AVENUE|                 null|                 null|     ADDRESS|          BRONX|    null|     Precinct|Closed|01/01/2016 07:48:...|  The Police Depart...|          01/01/2016 02:18:...|       10 BRONX|    BRONX|                   1030293|                    247376|       Unspecified|       BRONX|Unspecified|  Unspecified|  Unspecified|Unspecified|        Unspecified|   Unspecified|Unspecified| Unspecified|Unspecified|               N|                        null|        null|                null|                 null|               null|                    null|     null|                  null|           null|           null|               null|40.845545043640215|-73.83358471831198|(40.8455450436402...|\n",
      "|  32305074|12/31/2015 11:47:...|01/01/2016 08:18:...|  NYPD|New York City Pol...|     Illegal Parking|Posted Parking Si...|    Street/Sidewalk|       11208|        38 COX PLACE|         COX PLACE|   CRESCENT STREET|          DEAD END|                 null|                 null|     ADDRESS|       BROOKLYN|    null|     Precinct|Closed|01/01/2016 07:47:...|  The Police Depart...|          01/01/2016 08:18:...|    05 BROOKLYN| BROOKLYN|                   1019054|                    189780|       Unspecified|    BROOKLYN|Unspecified|  Unspecified|  Unspecified|Unspecified|        Unspecified|   Unspecified|Unspecified| Unspecified|Unspecified|               N|                        null|        null|                null|                 null|               null|                    null|     null|                  null|           null|           null|               null| 40.68751060232221|-73.87450451131276|(40.6875106023222...|\n",
      "|  32309424|12/31/2015 11:47:...|01/01/2016 10:17:...|  NYPD|New York City Pol...|    Derelict Vehicle|  With License Plate|    Street/Sidewalk|       11379|     62-13 62 AVENUE|         62 AVENUE|         62 STREET|         64 STREET|                 null|                 null|     ADDRESS| MIDDLE VILLAGE|    null|     Precinct|Closed|01/01/2016 07:47:...|  The Police Depart...|          01/01/2016 10:17:...|      05 QUEENS|   QUEENS|                   1012143|                    199456|       Unspecified|      QUEENS|Unspecified|  Unspecified|  Unspecified|Unspecified|        Unspecified|   Unspecified|Unspecified| Unspecified|Unspecified|               N|                        null|        null|                null|                 null|               null|                    null|     null|                  null|           null|           null|               null| 40.71409341858147|-73.89938394187791|(40.7140934185814...|\n",
      "|  32309853|12/31/2015 11:47:...|01/01/2016 03:20:...|  NYPD|New York City Pol...|    Blocked Driveway|      Partial Access|    Street/Sidewalk|       11374| 61-34 AUSTIN STREET|     AUSTIN STREET|      ELIOT AVENUE|         62 AVENUE|                 null|                 null|     ADDRESS|      REGO PARK|    null|     Precinct|Closed|01/01/2016 07:47:...|  The Police Depart...|          01/01/2016 03:20:...|      06 QUEENS|   QUEENS|                   1020165|                    205145|       Unspecified|      QUEENS|Unspecified|  Unspecified|  Unspecified|Unspecified|        Unspecified|   Unspecified|Unspecified| Unspecified|Unspecified|               N|                        null|        null|                null|                 null|               null|                    null|     null|                  null|           null|           null|               null| 40.72967940444622|-73.87041654016662|(40.7296794044462...|\n",
      "|  32305538|12/31/2015 11:47:...|01/01/2016 04:39:...|  NYPD|New York City Pol...|    Blocked Driveway|           No Access|    Street/Sidewalk|       11412|192-05 LINDEN BOU...|  LINDEN BOULEVARD|        192 STREET|        193 STREET|                 null|                 null|     ADDRESS|   SAINT ALBANS|    null|     Precinct|Closed|01/01/2016 07:47:...|  The Police Depart...|          01/01/2016 04:39:...|      12 QUEENS|   QUEENS|                   1051009|                    191672|       Unspecified|      QUEENS|Unspecified|  Unspecified|  Unspecified|Unspecified|        Unspecified|   Unspecified|Unspecified| Unspecified|Unspecified|               N|                        null|        null|                null|                 null|               null|                    null|     null|                  null|           null|           null|               null| 40.69252034680599|-73.75926357603389|(40.6925203468059...|\n",
      "|  32310273|12/31/2015 11:44:...|01/01/2016 12:36:...|  NYPD|New York City Pol...|  Noise - Commercial|    Loud Music/Party|Club/Bar/Restaurant|       11217|   622 DEGRAW STREET|     DEGRAW STREET|          3 AVENUE|          4 AVENUE|                 null|                 null|     ADDRESS|       BROOKLYN|    null|     Precinct|Closed|01/01/2016 07:44:...|  The Police Depart...|          01/01/2016 12:36:...|    06 BROOKLYN| BROOKLYN|                    988846|                    186711|       Unspecified|    BROOKLYN|Unspecified|  Unspecified|  Unspecified|Unspecified|        Unspecified|   Unspecified|Unspecified| Unspecified|Unspecified|               N|                        null|        null|                null|                 null|               null|                    null|     null|                  null|           null|           null|               null|40.679154133157326|-73.98342992763081|(40.6791541331573...|\n",
      "|  32306617|12/31/2015 11:40:...|01/01/2016 02:37:...|  NYPD|New York City Pol...|  Noise - Commercial|    Loud Music/Party|Club/Bar/Restaurant|       11234|2192 FLATBUSH AVENUE|   FLATBUSH AVENUE|    EAST 46 STREET|          AVENUE O|                 null|                 null|     ADDRESS|       BROOKLYN|    null|     Precinct|Closed|01/01/2016 07:40:...|  The Police Depart...|          01/01/2016 02:37:...|    18 BROOKLYN| BROOKLYN|                   1003628|                    163910|       Unspecified|    BROOKLYN|Unspecified|  Unspecified|  Unspecified|Unspecified|        Unspecified|   Unspecified|Unspecified| Unspecified|Unspecified|               N|                        null|        null|                null|                 null|               null|                    null|     null|                  null|           null|           null|               null| 40.61655032892211|-73.93020153359745|(40.6165503289221...|\n",
      "|  32308195|12/31/2015 11:40:...|01/01/2016 12:28:...|  NYPD|New York City Pol...|Noise - Street/Si...|    Loud Music/Party|    Street/Sidewalk|       10026| 264 WEST 118 STREET|   WEST 118 STREET|ST NICHOLAS AVENUE|          8 AVENUE|                 null|                 null|     ADDRESS|       NEW YORK|    null|     Precinct|Closed|01/01/2016 07:40:...|  The Police Depart...|          01/01/2016 12:28:...|   10 MANHATTAN|MANHATTAN|                    997164|                    232661|       Unspecified|   MANHATTAN|Unspecified|  Unspecified|  Unspecified|Unspecified|        Unspecified|   Unspecified|Unspecified| Unspecified|Unspecified|               N|                        null|        null|                null|                 null|               null|                    null|     null|                  null|           null|           null|               null| 40.80526715877265| -73.9533526205901|(40.8052671587726...|\n",
      "+----------+--------------------+--------------------+------+--------------------+--------------------+--------------------+-------------------+------------+--------------------+------------------+------------------+------------------+---------------------+---------------------+------------+---------------+--------+-------------+------+--------------------+----------------------+------------------------------+---------------+---------+--------------------------+--------------------------+------------------+------------+-----------+-------------+-------------+-----------+-------------------+--------------+-----------+------------+-----------+----------------+----------------------------+------------+--------------------+---------------------+-------------------+------------------------+---------+----------------------+---------------+---------------+-------------------+------------------+------------------+--------------------+\n",
      "only showing top 20 rows\n",
      "\n"
     ]
    }
   ],
   "source": [
    "df_data = spark.read.format(\"csv\") \\\n",
    ".option(\"header\", \"true\") \\\n",
    ".option(\"infer_schema\",\"true\")\\\n",
    ".option(\"first_row_is_header\",\"true\")\\\n",
    ".load(r\"C:\\Users\\myste\\Documents\\MSCS\\Spring 2020\\Big Data\\nyc311-2010\\311_Service_Requests_from_2010_to_Present.csv\")\n",
    "df_data.createOrReplaceTempView(\"df_data\")\n",
    "df_data.show()"
   ]
  },
  {
   "cell_type": "markdown",
   "metadata": {},
   "source": [
    "<b>Displaying columns in the loaded dataframe</b>"
   ]
  },
  {
   "cell_type": "code",
   "execution_count": 4,
   "metadata": {},
   "outputs": [
    {
     "data": {
      "text/plain": [
       "['Unique Key',\n",
       " 'Created Date',\n",
       " 'Closed Date',\n",
       " 'Agency',\n",
       " 'Agency Name',\n",
       " 'Complaint Type',\n",
       " 'Descriptor',\n",
       " 'Location Type',\n",
       " 'Incident Zip',\n",
       " 'Incident Address',\n",
       " 'Street Name',\n",
       " 'Cross Street 1',\n",
       " 'Cross Street 2',\n",
       " 'Intersection Street 1',\n",
       " 'Intersection Street 2',\n",
       " 'Address Type',\n",
       " 'City',\n",
       " 'Landmark',\n",
       " 'Facility Type',\n",
       " 'Status',\n",
       " 'Due Date',\n",
       " 'Resolution Description',\n",
       " 'Resolution Action Updated Date',\n",
       " 'Community Board',\n",
       " 'Borough',\n",
       " 'X Coordinate (State Plane)',\n",
       " 'Y Coordinate (State Plane)',\n",
       " 'Park Facility Name',\n",
       " 'Park Borough',\n",
       " 'School Name',\n",
       " 'School Number',\n",
       " 'School Region',\n",
       " 'School Code',\n",
       " 'School Phone Number',\n",
       " 'School Address',\n",
       " 'School City',\n",
       " 'School State',\n",
       " 'School Zip',\n",
       " 'School Not Found',\n",
       " 'School or Citywide Complaint',\n",
       " 'Vehicle Type',\n",
       " 'Taxi Company Borough',\n",
       " 'Taxi Pick Up Location',\n",
       " 'Bridge Highway Name',\n",
       " 'Bridge Highway Direction',\n",
       " 'Road Ramp',\n",
       " 'Bridge Highway Segment',\n",
       " 'Garage Lot Name',\n",
       " 'Ferry Direction',\n",
       " 'Ferry Terminal Name',\n",
       " 'Latitude',\n",
       " 'Longitude',\n",
       " 'Location']"
      ]
     },
     "execution_count": 4,
     "metadata": {},
     "output_type": "execute_result"
    }
   ],
   "source": [
    "df_data.columns"
   ]
  },
  {
   "cell_type": "markdown",
   "metadata": {},
   "source": [
    "<h3>Making a new dataframe with Relevant Columns</h3>\n",
    "<br> Removing the columns that are not required for the purpose of our problem."
   ]
  },
  {
   "cell_type": "code",
   "execution_count": 6,
   "metadata": {},
   "outputs": [
    {
     "name": "stdout",
     "output_type": "stream",
     "text": [
      "+--------------------+--------------------+--------------------+--------------------+-------------------+------------+---------------+------+----------------------+------------------------------+---------+------------------+------------------+\n",
      "|        Created Date|         Closed Date|      Complaint Type|          Descriptor|      Location Type|Incident Zip|           City|Status|Resolution Description|Resolution Action Updated Date|  Borough|          Latitude|         Longitude|\n",
      "+--------------------+--------------------+--------------------+--------------------+-------------------+------------+---------------+------+----------------------+------------------------------+---------+------------------+------------------+\n",
      "|12/31/2015 11:59:...|01/01/2016 12:55:...|Noise - Street/Si...|    Loud Music/Party|    Street/Sidewalk|       10034|       NEW YORK|Closed|  The Police Depart...|          01/01/2016 12:55:...|MANHATTAN| 40.86568153633767|-73.92350095571744|\n",
      "|12/31/2015 11:59:...|01/01/2016 01:26:...|    Blocked Driveway|           No Access|    Street/Sidewalk|       11105|        ASTORIA|Closed|  The Police Depart...|          01/01/2016 01:26:...|   QUEENS|40.775945312321085|-73.91509393898605|\n",
      "|12/31/2015 11:59:...|01/01/2016 04:51:...|    Blocked Driveway|           No Access|    Street/Sidewalk|       10458|          BRONX|Closed|  The Police Depart...|          01/01/2016 04:51:...|    BRONX|40.870324522111424|-73.88852464418646|\n",
      "|12/31/2015 11:57:...|01/01/2016 07:43:...|     Illegal Parking|Commercial Overni...|    Street/Sidewalk|       10461|          BRONX|Closed|  The Police Depart...|          01/01/2016 07:43:...|    BRONX| 40.83599404683083|-73.82837939584206|\n",
      "|12/31/2015 11:56:...|01/01/2016 03:24:...|     Illegal Parking|    Blocked Sidewalk|    Street/Sidewalk|       11373|       ELMHURST|Closed|  The Police Depart...|          01/01/2016 03:24:...|   QUEENS|40.733059618956815|-73.87416975810375|\n",
      "|12/31/2015 11:56:...|01/01/2016 01:50:...|     Illegal Parking|Posted Parking Si...|    Street/Sidewalk|       11215|       BROOKLYN|Closed|  The Police Depart...|          01/01/2016 01:50:...| BROOKLYN| 40.66082272389114|-73.99256786342693|\n",
      "|12/31/2015 11:55:...|01/01/2016 01:53:...|     Illegal Parking|     Blocked Hydrant|    Street/Sidewalk|       10032|       NEW YORK|Closed|  The Police Depart...|          01/01/2016 01:53:...|MANHATTAN|40.840847591440415| -73.9373750864581|\n",
      "|12/31/2015 11:54:...|01/01/2016 01:42:...|    Blocked Driveway|           No Access|    Street/Sidewalk|       10457|          BRONX|Closed|  The Police Depart...|          01/01/2016 01:42:...|    BRONX| 40.83750262540012|-73.90290517326568|\n",
      "|12/31/2015 11:53:...|01/01/2016 08:27:...|     Illegal Parking|Posted Parking Si...|    Street/Sidewalk|       11415|    KEW GARDENS|Closed|  The Police Depart...|          01/01/2016 08:27:...|   QUEENS|40.704977164399935| -73.8326047502584|\n",
      "|12/31/2015 11:53:...|01/01/2016 01:17:...|    Blocked Driveway|           No Access|    Street/Sidewalk|       11219|       BROOKLYN|Closed|  The Police Depart...|          01/01/2016 01:17:...| BROOKLYN|40.623793065806524|-73.99953890121567|\n",
      "|12/31/2015 11:52:...|01/01/2016 07:41:...|    Blocked Driveway|           No Access|    Street/Sidewalk|       11372|JACKSON HEIGHTS|Closed|  The Police Depart...|          01/01/2016 07:41:...|   QUEENS|40.752599671969676| -73.8933632141368|\n",
      "|12/31/2015 11:50:...|01/01/2016 10:58:...|    Blocked Driveway|           No Access|    Street/Sidewalk|       10453|          BRONX|Closed|  The Police Depart...|          01/01/2016 10:58:...|    BRONX| 40.85155492779258|-73.91999651358469|\n",
      "|12/31/2015 11:48:...|01/01/2016 02:17:...|Noise - Street/Si...|    Loud Music/Party|    Street/Sidewalk|       10461|          BRONX|Closed|  The Police Depart...|          01/01/2016 02:18:...|    BRONX|40.845545043640215|-73.83358471831198|\n",
      "|12/31/2015 11:47:...|01/01/2016 08:18:...|     Illegal Parking|Posted Parking Si...|    Street/Sidewalk|       11208|       BROOKLYN|Closed|  The Police Depart...|          01/01/2016 08:18:...| BROOKLYN| 40.68751060232221|-73.87450451131276|\n",
      "|12/31/2015 11:47:...|01/01/2016 10:17:...|    Derelict Vehicle|  With License Plate|    Street/Sidewalk|       11379| MIDDLE VILLAGE|Closed|  The Police Depart...|          01/01/2016 10:17:...|   QUEENS| 40.71409341858147|-73.89938394187791|\n",
      "|12/31/2015 11:47:...|01/01/2016 03:20:...|    Blocked Driveway|      Partial Access|    Street/Sidewalk|       11374|      REGO PARK|Closed|  The Police Depart...|          01/01/2016 03:20:...|   QUEENS| 40.72967940444622|-73.87041654016662|\n",
      "|12/31/2015 11:47:...|01/01/2016 04:39:...|    Blocked Driveway|           No Access|    Street/Sidewalk|       11412|   SAINT ALBANS|Closed|  The Police Depart...|          01/01/2016 04:39:...|   QUEENS| 40.69252034680599|-73.75926357603389|\n",
      "|12/31/2015 11:44:...|01/01/2016 12:36:...|  Noise - Commercial|    Loud Music/Party|Club/Bar/Restaurant|       11217|       BROOKLYN|Closed|  The Police Depart...|          01/01/2016 12:36:...| BROOKLYN|40.679154133157326|-73.98342992763081|\n",
      "|12/31/2015 11:40:...|01/01/2016 02:37:...|  Noise - Commercial|    Loud Music/Party|Club/Bar/Restaurant|       11234|       BROOKLYN|Closed|  The Police Depart...|          01/01/2016 02:37:...| BROOKLYN| 40.61655032892211|-73.93020153359745|\n",
      "|12/31/2015 11:40:...|01/01/2016 12:28:...|Noise - Street/Si...|    Loud Music/Party|    Street/Sidewalk|       10026|       NEW YORK|Closed|  The Police Depart...|          01/01/2016 12:28:...|MANHATTAN| 40.80526715877265| -73.9533526205901|\n",
      "+--------------------+--------------------+--------------------+--------------------+-------------------+------------+---------------+------+----------------------+------------------------------+---------+------------------+------------------+\n",
      "only showing top 20 rows\n",
      "\n"
     ]
    }
   ],
   "source": [
    "df_311 = df_data.select([c for c in df_data.columns if c in ['Created Date', 'Closed Date', 'Complaint Type', 'Descriptor', 'Location Type', \n",
    "             'Incident Zip', 'Status', 'Resolution Description', 'Resolution Action Updated Date',\n",
    "             'Latitude', 'Longitude','Borough','City']])\n",
    "df_311.show()"
   ]
  },
  {
   "cell_type": "markdown",
   "metadata": {},
   "source": [
    "<h3> Removing unnecessary columns like - School Name, School Zip, etc</h3> \n",
    "<br>As they mostly have Null values (which can be seen above), and aren't useful in our analysis. \n",
    "<br>If we keep these columns, replacing them with mean of other values in the columns doesn't make sense.\n",
    "<br>And droping rows based on null values in these columns will result in many rows being dropped.\n",
    "<br>Hence we want to keep only relevant columns  "
   ]
  },
  {
   "cell_type": "code",
   "execution_count": 7,
   "metadata": {},
   "outputs": [
    {
     "name": "stdout",
     "output_type": "stream",
     "text": [
      "+------------+-----------+--------------+----------+-------------+------------+----+------+----------------------+------------------------------+-------+--------+---------+\n",
      "|Created Date|Closed Date|Complaint Type|Descriptor|Location Type|Incident Zip|City|Status|Resolution Description|Resolution Action Updated Date|Borough|Latitude|Longitude|\n",
      "+------------+-----------+--------------+----------+-------------+------------+----+------+----------------------+------------------------------+-------+--------+---------+\n",
      "|           0|       2381|             0|         0|          133|        2997|2997|     0|                     0|                          2402|      0|    4030|     4030|\n",
      "+------------+-----------+--------------+----------+-------------+------------+----+------+----------------------+------------------------------+-------+--------+---------+\n",
      "\n"
     ]
    }
   ],
   "source": [
    "df_311.select([count(when(isnan(c) | col(c).isNull(), c)).alias(c) for c in df_311.columns]).show()"
   ]
  },
  {
   "cell_type": "markdown",
   "metadata": {},
   "source": [
    "<h3>Dropping rows with null values</h3> \n",
    "Given the nature of the data (Zip Codes, complaint types, complain location, etc), any preprocessing technique which replaces the null values with a value computed based on other values from the column (eg - highest frequency, mean, etc) will result in incorrect approximations, as the columns do not carry values like precepetation index or humidity level which follows a pattern."
   ]
  },
  {
   "cell_type": "code",
   "execution_count": 8,
   "metadata": {},
   "outputs": [],
   "source": [
    "df_311 = df_311.dropna(subset=['Created Date', 'Closed Date', 'Latitude', 'Longitude'])"
   ]
  },
  {
   "cell_type": "code",
   "execution_count": 9,
   "metadata": {},
   "outputs": [
    {
     "name": "stdout",
     "output_type": "stream",
     "text": [
      "+------------+-----------+--------------+----------+-------------+------------+----+------+----------------------+------------------------------+-------+--------+---------+\n",
      "|Created Date|Closed Date|Complaint Type|Descriptor|Location Type|Incident Zip|City|Status|Resolution Description|Resolution Action Updated Date|Borough|Latitude|Longitude|\n",
      "+------------+-----------+--------------+----------+-------------+------------+----+------+----------------------+------------------------------+-------+--------+---------+\n",
      "|           0|          0|             0|         0|          122|          41|  41|     0|                     0|                            39|      0|       0|        0|\n",
      "+------------+-----------+--------------+----------+-------------+------------+----+------+----------------------+------------------------------+-------+--------+---------+\n",
      "\n"
     ]
    }
   ],
   "source": [
    "df_311.select([count(when(isnan(c) | col(c).isNull(), c)).alias(c) for c in df_311.columns]).show()"
   ]
  },
  {
   "cell_type": "markdown",
   "metadata": {},
   "source": [
    "Null values in columns like 'created date', 'closed date', 'latitude', 'longitude', etc would not ve acceptable for the prediction model we intend to build. But null values in columns like 'Descriptor', 'Location Type', 'City' would not make a difference to our model "
   ]
  },
  {
   "cell_type": "markdown",
   "metadata": {},
   "source": [
    "<h3>Clubbing: Complaints, Resolution Types and Location Types together</h3>\n",
    "<br> We found that most of the types under these columns could be clubbed under a main catagory. This will improve the analysis."
   ]
  },
  {
   "cell_type": "code",
   "execution_count": 10,
   "metadata": {},
   "outputs": [],
   "source": [
    "complaint_type = {'Noise':['Noise - Commercial','Noise - House of Worship','Noise - Park',\\\n",
    "                       'Noise - Street/Sidewalk','Noise - Vehicle'], \\\n",
    "              'Animal Abuse' : ['Animal Abuse'], \\\n",
    "              'Street Conditions' : ['Derelict Vehicle', 'Graffiti', 'Posting Advertisement', 'Sidewalk Condition', \\\n",
    "                                     'Street Condition', 'Homeless Encampment','Panhandling', 'Vending'], \\\n",
    "              'Parking Conditions' : ['Blocked Driveway', 'Illegal Parking'], \\\n",
    "              'Disorderly Behavior' : ['Disorderly Youth', 'Drinking', 'Illegal Fireworks','Urinating in Public', \\\n",
    "                                      'Bike/Roller/Skate Chronic', 'Drug Activity', 'Squeegee'], \\\n",
    "              'Traffic' : ['Traffic']}"
   ]
  },
  {
   "cell_type": "code",
   "execution_count": 11,
   "metadata": {},
   "outputs": [],
   "source": [
    "resolution_type = {'Police Department Acted':['The Police Department issued a summons in response to the complaint.',\n",
    "                                       'The Police Department made an arrest in response to the complaint.',\n",
    "                                       'The Police Department responded to the complaint and took action to fix the condition.',\n",
    "                                        'The Police Department responded to the complaint and a report was prepared.',\n",
    "                                       'The Police Department reviewed your complaint and provided additional information below.'],\n",
    "            'Police Department Unable to Act': ['The Police Department responded and upon arrival those responsible for the condition were gone.',\n",
    "                                       'The Police Department responded to the complaint but officers were unable to gain entry into the premises.',\n",
    "                                       \"This complaint does not fall under the Police Department's jurisdiction.\",\n",
    "                                        'Your request can not be processed at this time because of insufficient contact information. Please create a new Service Request on NYC.gov and provide more detailed contact information.',\n",
    "                                        \"Your complaint has been forwarded to the New York Police Department for a non-emergency response. If the police determine the vehicle is illegally parked, they will ticket the vehicle and then you may either contact a private towing company to remove the vehicle or ask your local precinct to contact 'rotation tow'. Any fees charged for towing will have to be paid by the vehicle owner. 311 will have additional information in 8 hours. Please note your service request number for future reference.\"],\n",
    "            'False Alarm': ['The Police Department responded to the complaint and determined that police action was not necessary.',\n",
    "                           'The Police Department responded to the complaint and with the information available observed no evidence of the violation at that time.']}"
   ]
  },
  {
   "cell_type": "code",
   "execution_count": 12,
   "metadata": {},
   "outputs": [],
   "source": [
    "location_type = {\n",
    "              'Residential' : ['Residential Building/House', 'Residential Building', 'House and Store'], \\\n",
    "              'Commercial' : ['Store/Commercial', 'Commercial'], \\\n",
    "              'Club/Bar/Restaurant' : ['Club/Bar/Restaurant'], \\\n",
    "              'Parking Lot' : ['Parking Lot', 'Vacant Lot'], \\\n",
    "              'Roadway/Highway/Bridge' : ['Bridge', 'Highway', 'Roadway Tunnel'], \\\n",
    "              'House of Worship' : ['House of Worship'],\n",
    "              'Street/Sidewalk' : ['Street/Sidewalk'],\n",
    "              'Subway Station' : ['Subway Station'],\n",
    "              'Park/Playground' : ['Park/Playground']}"
   ]
  },
  {
   "cell_type": "code",
   "execution_count": 13,
   "metadata": {},
   "outputs": [],
   "source": [
    "@udf\n",
    "def subgroup_type(entry,subgroups=complaint_type):\n",
    "    for key,comp_list in subgroups.items():\n",
    "        if entry in comp_list:\n",
    "            return key\n",
    "df_311 = df_311.withColumn(\"Complaint_Type_Groups\",(subgroup_type(lit(df_311[\"Complaint Type\"]))))"
   ]
  },
  {
   "cell_type": "code",
   "execution_count": 14,
   "metadata": {},
   "outputs": [],
   "source": [
    "@udf\n",
    "def subgroup_type(entry,subgroups=resolution_type):\n",
    "    for key,comp_list in subgroups.items():\n",
    "        if entry in comp_list:\n",
    "            return key\n",
    "df_311 = df_311.withColumn(\"Resolution_Type_Groups\",(subgroup_type(lit(df_311[\"Resolution Description\"]))))"
   ]
  },
  {
   "cell_type": "code",
   "execution_count": 15,
   "metadata": {},
   "outputs": [
    {
     "name": "stdout",
     "output_type": "stream",
     "text": [
      "+--------------------+--------------------+--------------------+--------------------+-------------------+------------+---------------+------+----------------------+------------------------------+---------+------------------+------------------+---------------------+----------------------+--------------------+\n",
      "|        Created Date|         Closed Date|      Complaint Type|          Descriptor|      Location Type|Incident Zip|           City|Status|Resolution Description|Resolution Action Updated Date|  Borough|          Latitude|         Longitude|Complaint_Type_Groups|Resolution_Type_Groups|Location_Type_Groups|\n",
      "+--------------------+--------------------+--------------------+--------------------+-------------------+------------+---------------+------+----------------------+------------------------------+---------+------------------+------------------+---------------------+----------------------+--------------------+\n",
      "|12/31/2015 11:59:...|01/01/2016 12:55:...|Noise - Street/Si...|    Loud Music/Party|    Street/Sidewalk|       10034|       NEW YORK|Closed|  The Police Depart...|          01/01/2016 12:55:...|MANHATTAN| 40.86568153633767|-73.92350095571744|                Noise|  Police Department...|     Street/Sidewalk|\n",
      "|12/31/2015 11:59:...|01/01/2016 01:26:...|    Blocked Driveway|           No Access|    Street/Sidewalk|       11105|        ASTORIA|Closed|  The Police Depart...|          01/01/2016 01:26:...|   QUEENS|40.775945312321085|-73.91509393898605|   Parking Conditions|           False Alarm|     Street/Sidewalk|\n",
      "|12/31/2015 11:59:...|01/01/2016 04:51:...|    Blocked Driveway|           No Access|    Street/Sidewalk|       10458|          BRONX|Closed|  The Police Depart...|          01/01/2016 04:51:...|    BRONX|40.870324522111424|-73.88852464418646|   Parking Conditions|  Police Department...|     Street/Sidewalk|\n",
      "|12/31/2015 11:57:...|01/01/2016 07:43:...|     Illegal Parking|Commercial Overni...|    Street/Sidewalk|       10461|          BRONX|Closed|  The Police Depart...|          01/01/2016 07:43:...|    BRONX| 40.83599404683083|-73.82837939584206|   Parking Conditions|  Police Department...|     Street/Sidewalk|\n",
      "|12/31/2015 11:56:...|01/01/2016 03:24:...|     Illegal Parking|    Blocked Sidewalk|    Street/Sidewalk|       11373|       ELMHURST|Closed|  The Police Depart...|          01/01/2016 03:24:...|   QUEENS|40.733059618956815|-73.87416975810375|   Parking Conditions|  Police Department...|     Street/Sidewalk|\n",
      "|12/31/2015 11:56:...|01/01/2016 01:50:...|     Illegal Parking|Posted Parking Si...|    Street/Sidewalk|       11215|       BROOKLYN|Closed|  The Police Depart...|          01/01/2016 01:50:...| BROOKLYN| 40.66082272389114|-73.99256786342693|   Parking Conditions|  Police Department...|     Street/Sidewalk|\n",
      "|12/31/2015 11:55:...|01/01/2016 01:53:...|     Illegal Parking|     Blocked Hydrant|    Street/Sidewalk|       10032|       NEW YORK|Closed|  The Police Depart...|          01/01/2016 01:53:...|MANHATTAN|40.840847591440415| -73.9373750864581|   Parking Conditions|  Police Department...|     Street/Sidewalk|\n",
      "|12/31/2015 11:54:...|01/01/2016 01:42:...|    Blocked Driveway|           No Access|    Street/Sidewalk|       10457|          BRONX|Closed|  The Police Depart...|          01/01/2016 01:42:...|    BRONX| 40.83750262540012|-73.90290517326568|   Parking Conditions|           False Alarm|     Street/Sidewalk|\n",
      "|12/31/2015 11:53:...|01/01/2016 08:27:...|     Illegal Parking|Posted Parking Si...|    Street/Sidewalk|       11415|    KEW GARDENS|Closed|  The Police Depart...|          01/01/2016 08:27:...|   QUEENS|40.704977164399935| -73.8326047502584|   Parking Conditions|           False Alarm|     Street/Sidewalk|\n",
      "|12/31/2015 11:53:...|01/01/2016 01:17:...|    Blocked Driveway|           No Access|    Street/Sidewalk|       11219|       BROOKLYN|Closed|  The Police Depart...|          01/01/2016 01:17:...| BROOKLYN|40.623793065806524|-73.99953890121567|   Parking Conditions|  Police Department...|     Street/Sidewalk|\n",
      "|12/31/2015 11:52:...|01/01/2016 07:41:...|    Blocked Driveway|           No Access|    Street/Sidewalk|       11372|JACKSON HEIGHTS|Closed|  The Police Depart...|          01/01/2016 07:41:...|   QUEENS|40.752599671969676| -73.8933632141368|   Parking Conditions|  Police Department...|     Street/Sidewalk|\n",
      "|12/31/2015 11:50:...|01/01/2016 10:58:...|    Blocked Driveway|           No Access|    Street/Sidewalk|       10453|          BRONX|Closed|  The Police Depart...|          01/01/2016 10:58:...|    BRONX| 40.85155492779258|-73.91999651358469|   Parking Conditions|           False Alarm|     Street/Sidewalk|\n",
      "|12/31/2015 11:48:...|01/01/2016 02:17:...|Noise - Street/Si...|    Loud Music/Party|    Street/Sidewalk|       10461|          BRONX|Closed|  The Police Depart...|          01/01/2016 02:18:...|    BRONX|40.845545043640215|-73.83358471831198|                Noise|           False Alarm|     Street/Sidewalk|\n",
      "|12/31/2015 11:47:...|01/01/2016 08:18:...|     Illegal Parking|Posted Parking Si...|    Street/Sidewalk|       11208|       BROOKLYN|Closed|  The Police Depart...|          01/01/2016 08:18:...| BROOKLYN| 40.68751060232221|-73.87450451131276|   Parking Conditions|           False Alarm|     Street/Sidewalk|\n",
      "|12/31/2015 11:47:...|01/01/2016 10:17:...|    Derelict Vehicle|  With License Plate|    Street/Sidewalk|       11379| MIDDLE VILLAGE|Closed|  The Police Depart...|          01/01/2016 10:17:...|   QUEENS| 40.71409341858147|-73.89938394187791|    Street Conditions|           False Alarm|     Street/Sidewalk|\n",
      "|12/31/2015 11:47:...|01/01/2016 03:20:...|    Blocked Driveway|      Partial Access|    Street/Sidewalk|       11374|      REGO PARK|Closed|  The Police Depart...|          01/01/2016 03:20:...|   QUEENS| 40.72967940444622|-73.87041654016662|   Parking Conditions|  Police Department...|     Street/Sidewalk|\n",
      "|12/31/2015 11:47:...|01/01/2016 04:39:...|    Blocked Driveway|           No Access|    Street/Sidewalk|       11412|   SAINT ALBANS|Closed|  The Police Depart...|          01/01/2016 04:39:...|   QUEENS| 40.69252034680599|-73.75926357603389|   Parking Conditions|  Police Department...|     Street/Sidewalk|\n",
      "|12/31/2015 11:44:...|01/01/2016 12:36:...|  Noise - Commercial|    Loud Music/Party|Club/Bar/Restaurant|       11217|       BROOKLYN|Closed|  The Police Depart...|          01/01/2016 12:36:...| BROOKLYN|40.679154133157326|-73.98342992763081|                Noise|  Police Department...| Club/Bar/Restaurant|\n",
      "|12/31/2015 11:40:...|01/01/2016 02:37:...|  Noise - Commercial|    Loud Music/Party|Club/Bar/Restaurant|       11234|       BROOKLYN|Closed|  The Police Depart...|          01/01/2016 02:37:...| BROOKLYN| 40.61655032892211|-73.93020153359745|                Noise|  Police Department...| Club/Bar/Restaurant|\n",
      "|12/31/2015 11:40:...|01/01/2016 12:28:...|Noise - Street/Si...|    Loud Music/Party|    Street/Sidewalk|       10026|       NEW YORK|Closed|  The Police Depart...|          01/01/2016 12:28:...|MANHATTAN| 40.80526715877265| -73.9533526205901|                Noise|           False Alarm|     Street/Sidewalk|\n",
      "+--------------------+--------------------+--------------------+--------------------+-------------------+------------+---------------+------+----------------------+------------------------------+---------+------------------+------------------+---------------------+----------------------+--------------------+\n",
      "only showing top 20 rows\n",
      "\n"
     ]
    }
   ],
   "source": [
    "@udf \n",
    "def subgroup_type(entry,subgroups=location_type):\n",
    "    for key,comp_list in subgroups.items():\n",
    "        if entry in comp_list:\n",
    "            return key\n",
    "df_311 = df_311.withColumn(\"Location_Type_Groups\",(subgroup_type(lit(df_311[\"Location Type\"]))))\n",
    "df_311.show()"
   ]
  },
  {
   "cell_type": "markdown",
   "metadata": {},
   "source": [
    "<b>Displaying columns after processing the data.</b>"
   ]
  },
  {
   "cell_type": "code",
   "execution_count": 16,
   "metadata": {},
   "outputs": [
    {
     "data": {
      "text/plain": [
       "['Created Date',\n",
       " 'Closed Date',\n",
       " 'Complaint Type',\n",
       " 'Descriptor',\n",
       " 'Location Type',\n",
       " 'Incident Zip',\n",
       " 'City',\n",
       " 'Status',\n",
       " 'Resolution Description',\n",
       " 'Resolution Action Updated Date',\n",
       " 'Borough',\n",
       " 'Latitude',\n",
       " 'Longitude',\n",
       " 'Complaint_Type_Groups',\n",
       " 'Resolution_Type_Groups',\n",
       " 'Location_Type_Groups']"
      ]
     },
     "execution_count": 16,
     "metadata": {},
     "output_type": "execute_result"
    }
   ],
   "source": [
    "df_311.columns"
   ]
  },
  {
   "cell_type": "code",
   "execution_count": 17,
   "metadata": {},
   "outputs": [
    {
     "data": {
      "text/plain": [
       "<bound method DataFrame.describe of DataFrame[Created Date: string, Closed Date: string, Complaint Type: string, Descriptor: string, Location Type: string, Incident Zip: string, City: string, Status: string, Resolution Description: string, Resolution Action Updated Date: string, Borough: string, Latitude: string, Longitude: string, Complaint_Type_Groups: string, Resolution_Type_Groups: string, Location_Type_Groups: string]>"
      ]
     },
     "execution_count": 17,
     "metadata": {},
     "output_type": "execute_result"
    }
   ],
   "source": [
    "df_311.describe"
   ]
  },
  {
   "cell_type": "markdown",
   "metadata": {},
   "source": [
    "<h3>Convorting the relevant columns to Timestamp from String values</h3>"
   ]
  },
  {
   "cell_type": "code",
   "execution_count": 18,
   "metadata": {},
   "outputs": [],
   "source": [
    "df_311_format = df_311.withColumn(\"Closed Date\", to_timestamp(col(\"Closed Date\"), \"MM/dd/yyyy HH:mm:ss\").cast(\"timestamp\"))\\\n",
    ".withColumn(\"Created Date\", to_timestamp(col(\"Created Date\"), \"MM/dd/yyyy HH:mm:ss\").cast(\"timestamp\"))\\\n",
    ".withColumn(\"Resolution Action Updated Date\", to_timestamp(col(\"Resolution Action Updated Date\"), \"MM/dd/yyyy HH:mm:ss\").cast(\"timestamp\"))"
   ]
  },
  {
   "cell_type": "code",
   "execution_count": 19,
   "metadata": {},
   "outputs": [
    {
     "data": {
      "text/plain": [
       "<bound method DataFrame.describe of DataFrame[Created Date: timestamp, Closed Date: timestamp, Complaint Type: string, Descriptor: string, Location Type: string, Incident Zip: string, City: string, Status: string, Resolution Description: string, Resolution Action Updated Date: timestamp, Borough: string, Latitude: string, Longitude: string, Complaint_Type_Groups: string, Resolution_Type_Groups: string, Location_Type_Groups: string]>"
      ]
     },
     "execution_count": 19,
     "metadata": {},
     "output_type": "execute_result"
    }
   ],
   "source": [
    "df_311_format.describe"
   ]
  },
  {
   "cell_type": "markdown",
   "metadata": {},
   "source": [
    "<h3>Finding the resolution times of the complaints</h3>\n",
    "<br> Resolution Time = Closed Date - Created Date"
   ]
  },
  {
   "cell_type": "code",
   "execution_count": 20,
   "metadata": {},
   "outputs": [
    {
     "name": "stdout",
     "output_type": "stream",
     "text": [
      "+-------------------+-------------------+-----------------------+-----------------------------+-------------------+------------+---------------+------+---------------------------------------------------------------------------------------------------------------------------------------+------------------------------+---------+------------------+------------------+---------------------+-------------------------------+--------------------+--------------------+--------------------+---------------------+\n",
      "|Created Date       |Closed Date        |Complaint Type         |Descriptor                   |Location Type      |Incident Zip|City           |Status|Resolution Description                                                                                                                 |Resolution Action Updated Date|Borough  |Latitude          |Longitude         |Complaint_Type_Groups|Resolution_Type_Groups         |Location_Type_Groups|Resolution_Time_Secs|Resolution_Time_Mins|Resolution_Time_Hours|\n",
      "+-------------------+-------------------+-----------------------+-----------------------------+-------------------+------------+---------------+------+---------------------------------------------------------------------------------------------------------------------------------------+------------------------------+---------+------------------+------------------+---------------------+-------------------------------+--------------------+--------------------+--------------------+---------------------+\n",
      "|2015-12-31 11:59:45|2016-01-01 12:55:15|Noise - Street/Sidewalk|Loud Music/Party             |Street/Sidewalk    |10034       |NEW YORK       |Closed|The Police Department responded and upon arrival those responsible for the condition were gone.                                        |2016-01-01 12:55:15           |MANHATTAN|40.86568153633767 |-73.92350095571744|Noise                |Police Department Unable to Act|Street/Sidewalk     |89730               |1496.0              |25.0                 |\n",
      "|2015-12-31 11:59:44|2016-01-01 01:26:57|Blocked Driveway       |No Access                    |Street/Sidewalk    |11105       |ASTORIA        |Closed|The Police Department responded to the complaint and with the information available observed no evidence of the violation at that time.|2016-01-01 01:26:57           |QUEENS   |40.775945312321085|-73.91509393898605|Parking Conditions   |False Alarm                    |Street/Sidewalk     |48433               |807.0               |13.0                 |\n",
      "|2015-12-31 11:59:29|2016-01-01 04:51:03|Blocked Driveway       |No Access                    |Street/Sidewalk    |10458       |BRONX          |Closed|The Police Department responded and upon arrival those responsible for the condition were gone.                                        |2016-01-01 04:51:03           |BRONX    |40.870324522111424|-73.88852464418646|Parking Conditions   |Police Department Unable to Act|Street/Sidewalk     |60694               |1012.0              |17.0                 |\n",
      "|2015-12-31 11:57:46|2016-01-01 07:43:13|Illegal Parking        |Commercial Overnight Parking |Street/Sidewalk    |10461       |BRONX          |Closed|The Police Department responded to the complaint and took action to fix the condition.                                                 |2016-01-01 07:43:13           |BRONX    |40.83599404683083 |-73.82837939584206|Parking Conditions   |Police Department Acted        |Street/Sidewalk     |71127               |1185.0              |20.0                 |\n",
      "|2015-12-31 11:56:58|2016-01-01 03:24:42|Illegal Parking        |Blocked Sidewalk             |Street/Sidewalk    |11373       |ELMHURST       |Closed|The Police Department responded and upon arrival those responsible for the condition were gone.                                        |2016-01-01 03:24:42           |QUEENS   |40.733059618956815|-73.87416975810375|Parking Conditions   |Police Department Unable to Act|Street/Sidewalk     |55664               |928.0               |15.0                 |\n",
      "|2015-12-31 11:56:30|2016-01-01 01:50:11|Illegal Parking        |Posted Parking Sign Violation|Street/Sidewalk    |11215       |BROOKLYN       |Closed|The Police Department responded and upon arrival those responsible for the condition were gone.                                        |2016-01-01 01:50:11           |BROOKLYN |40.66082272389114 |-73.99256786342693|Parking Conditions   |Police Department Unable to Act|Street/Sidewalk     |50021               |834.0               |14.0                 |\n",
      "|2015-12-31 11:55:32|2016-01-01 01:53:54|Illegal Parking        |Blocked Hydrant              |Street/Sidewalk    |10032       |NEW YORK       |Closed|The Police Department issued a summons in response to the complaint.                                                                   |2016-01-01 01:53:54           |MANHATTAN|40.840847591440415|-73.9373750864581 |Parking Conditions   |Police Department Acted        |Street/Sidewalk     |50302               |838.0               |14.0                 |\n",
      "|2015-12-31 11:54:05|2016-01-01 01:42:54|Blocked Driveway       |No Access                    |Street/Sidewalk    |10457       |BRONX          |Closed|The Police Department responded to the complaint and with the information available observed no evidence of the violation at that time.|2016-01-01 01:42:54           |BRONX    |40.83750262540012 |-73.90290517326568|Parking Conditions   |False Alarm                    |Street/Sidewalk     |49729               |829.0               |14.0                 |\n",
      "|2015-12-31 11:53:58|2016-01-01 08:27:32|Illegal Parking        |Posted Parking Sign Violation|Street/Sidewalk    |11415       |KEW GARDENS    |Closed|The Police Department responded to the complaint and determined that police action was not necessary.                                  |2016-01-01 08:27:32           |QUEENS   |40.704977164399935|-73.8326047502584 |Parking Conditions   |False Alarm                    |Street/Sidewalk     |74014               |1234.0              |21.0                 |\n",
      "|2015-12-31 11:53:58|2016-01-01 01:17:40|Blocked Driveway       |No Access                    |Street/Sidewalk    |11219       |BROOKLYN       |Closed|The Police Department responded and upon arrival those responsible for the condition were gone.                                        |2016-01-01 01:17:40           |BROOKLYN |40.623793065806524|-73.99953890121567|Parking Conditions   |Police Department Unable to Act|Street/Sidewalk     |48222               |804.0               |13.0                 |\n",
      "|2015-12-31 11:52:58|2016-01-01 07:41:38|Blocked Driveway       |No Access                    |Street/Sidewalk    |11372       |JACKSON HEIGHTS|Closed|The Police Department responded and upon arrival those responsible for the condition were gone.                                        |2016-01-01 07:41:38           |QUEENS   |40.752599671969676|-73.8933632141368 |Parking Conditions   |Police Department Unable to Act|Street/Sidewalk     |71320               |1189.0              |20.0                 |\n",
      "|2015-12-31 11:50:57|2016-01-01 10:58:08|Blocked Driveway       |No Access                    |Street/Sidewalk    |10453       |BRONX          |Closed|The Police Department responded to the complaint and with the information available observed no evidence of the violation at that time.|2016-01-01 10:58:08           |BRONX    |40.85155492779258 |-73.91999651358469|Parking Conditions   |False Alarm                    |Street/Sidewalk     |83231               |1387.0              |23.0                 |\n",
      "|2015-12-31 11:48:03|2016-01-01 02:17:59|Noise - Street/Sidewalk|Loud Music/Party             |Street/Sidewalk    |10461       |BRONX          |Closed|The Police Department responded to the complaint and with the information available observed no evidence of the violation at that time.|2016-01-01 02:18:00           |BRONX    |40.845545043640215|-73.83358471831198|Noise                |False Alarm                    |Street/Sidewalk     |52196               |870.0               |14.0                 |\n",
      "|2015-12-31 11:47:58|2016-01-01 08:18:47|Illegal Parking        |Posted Parking Sign Violation|Street/Sidewalk    |11208       |BROOKLYN       |Closed|The Police Department responded to the complaint and determined that police action was not necessary.                                  |2016-01-01 08:18:47           |BROOKLYN |40.68751060232221 |-73.87450451131276|Parking Conditions   |False Alarm                    |Street/Sidewalk     |73849               |1231.0              |21.0                 |\n",
      "|2015-12-31 11:47:37|2016-01-01 10:17:22|Derelict Vehicle       |With License Plate           |Street/Sidewalk    |11379       |MIDDLE VILLAGE |Closed|The Police Department responded to the complaint and determined that police action was not necessary.                                  |2016-01-01 10:17:03           |QUEENS   |40.71409341858147 |-73.89938394187791|Street Conditions    |False Alarm                    |Street/Sidewalk     |80985               |1350.0              |22.0                 |\n",
      "|2015-12-31 11:47:30|2016-01-01 03:20:57|Blocked Driveway       |Partial Access               |Street/Sidewalk    |11374       |REGO PARK      |Closed|The Police Department responded and upon arrival those responsible for the condition were gone.                                        |2016-01-01 03:20:57           |QUEENS   |40.72967940444622 |-73.87041654016662|Parking Conditions   |Police Department Unable to Act|Street/Sidewalk     |56007               |933.0               |16.0                 |\n",
      "|2015-12-31 11:47:02|2016-01-01 04:39:41|Blocked Driveway       |No Access                    |Street/Sidewalk    |11412       |SAINT ALBANS   |Closed|The Police Department issued a summons in response to the complaint.                                                                   |2016-01-01 04:39:41           |QUEENS   |40.69252034680599 |-73.75926357603389|Parking Conditions   |Police Department Acted        |Street/Sidewalk     |60759               |1013.0              |17.0                 |\n",
      "|2015-12-31 11:44:52|2016-01-01 12:36:10|Noise - Commercial     |Loud Music/Party             |Club/Bar/Restaurant|11217       |BROOKLYN       |Closed|The Police Department responded to the complaint and took action to fix the condition.                                                 |2016-01-01 12:36:10           |BROOKLYN |40.679154133157326|-73.98342992763081|Noise                |Police Department Acted        |Club/Bar/Restaurant |89478               |1491.0              |25.0                 |\n",
      "|2015-12-31 11:40:59|2016-01-01 02:37:28|Noise - Commercial     |Loud Music/Party             |Club/Bar/Restaurant|11234       |BROOKLYN       |Closed|The Police Department responded to the complaint and took action to fix the condition.                                                 |2016-01-01 02:37:28           |BROOKLYN |40.61655032892211 |-73.93020153359745|Noise                |Police Department Acted        |Club/Bar/Restaurant |53789               |896.0               |15.0                 |\n",
      "|2015-12-31 11:40:55|2016-01-01 12:28:31|Noise - Street/Sidewalk|Loud Music/Party             |Street/Sidewalk    |10026       |NEW YORK       |Closed|The Police Department responded to the complaint and with the information available observed no evidence of the violation at that time.|2016-01-01 12:28:31           |MANHATTAN|40.80526715877265 |-73.9533526205901 |Noise                |False Alarm                    |Street/Sidewalk     |89256               |1488.0              |25.0                 |\n",
      "+-------------------+-------------------+-----------------------+-----------------------------+-------------------+------------+---------------+------+---------------------------------------------------------------------------------------------------------------------------------------+------------------------------+---------+------------------+------------------+---------------------+-------------------------------+--------------------+--------------------+--------------------+---------------------+\n",
      "only showing top 20 rows\n",
      "\n"
     ]
    }
   ],
   "source": [
    "resolution_time = col(\"Closed Date\").cast(\"long\") - col(\"Created Date\").cast(\"long\")\n",
    "df_311_time = df_311_format.withColumn( \"Resolution_Time_Secs\", resolution_time )\\\n",
    ".withColumn('Resolution_Time_Mins',round(col('Resolution_Time_Secs')/60))\\\n",
    "  .withColumn('Resolution_Time_Hours',round(col('Resolution_Time_Secs')/3600))\n",
    "df_311_time.show(truncate=False)"
   ]
  },
  {
   "cell_type": "markdown",
   "metadata": {},
   "source": [
    "<h3>Writing the final Preprocessed file to csv for further analysis</h3>"
   ]
  },
  {
   "cell_type": "code",
   "execution_count": 21,
   "metadata": {},
   "outputs": [],
   "source": [
    "df_311_time.write.format(\"csv\").option(\"header\",\"true\").save(r'C:\\Users\\myste\\Documents\\MSCS\\Spring 2020\\Big Data\\nyc311-2010\\311_preprocessed')"
   ]
  },
  {
   "cell_type": "code",
   "execution_count": null,
   "metadata": {},
   "outputs": [],
   "source": []
  }
 ],
 "metadata": {
  "kernelspec": {
   "display_name": "Python 3",
   "language": "python",
   "name": "python3"
  },
  "language_info": {
   "codemirror_mode": {
    "name": "ipython",
    "version": 3
   },
   "file_extension": ".py",
   "mimetype": "text/x-python",
   "name": "python",
   "nbconvert_exporter": "python",
   "pygments_lexer": "ipython3",
   "version": "3.7.6"
  }
 },
 "nbformat": 4,
 "nbformat_minor": 2
}
