{
 "cells": [
  {
   "cell_type": "code",
   "execution_count": 1,
   "metadata": {},
   "outputs": [],
   "source": [
    "from pyspark.sql import SparkSession\n",
    "from pyspark.sql.functions import *\n",
    "from pyspark import SparkContext\n",
    "from pyspark.sql.types import *\n",
    "from pyspark.ml.feature import *\n",
    "from pyspark.sql.functions import dayofweek\n",
    "from pyspark.ml.feature import StringIndexer\n",
    "from pyspark.ml.feature import OneHotEncoderEstimator\n",
    "from pyspark.ml.feature import Bucketizer\n",
    "from pyspark.ml.feature import StandardScaler\n",
    "from pyspark.ml.feature import VectorAssembler\n",
    "from pyspark.ml.classification import LogisticRegression\n",
    "import pandas as pd\n",
    "import numpy as np\n",
    "import matplotlib as mpl\n",
    "from matplotlib import pyplot as plt\n",
    "from pyspark.ml import Pipeline"
   ]
  },
  {
   "cell_type": "code",
   "execution_count": 2,
   "metadata": {},
   "outputs": [
    {
     "data": {
      "text/html": [
       "\n",
       "        <div>\n",
       "            <p><b>SparkContext</b></p>\n",
       "\n",
       "            <p><a href=\"http://kshitijas-mbp.lan:4041\">Spark UI</a></p>\n",
       "\n",
       "            <dl>\n",
       "              <dt>Version</dt>\n",
       "                <dd><code>v2.4.5</code></dd>\n",
       "              <dt>Master</dt>\n",
       "                <dd><code>local[*]</code></dd>\n",
       "              <dt>AppName</dt>\n",
       "                <dd><code>proj</code></dd>\n",
       "            </dl>\n",
       "        </div>\n",
       "        "
      ],
      "text/plain": [
       "<SparkContext master=local[*] appName=proj>"
      ]
     },
     "execution_count": 2,
     "metadata": {},
     "output_type": "execute_result"
    }
   ],
   "source": [
    "spark = SparkSession\\\n",
    "        .builder\\\n",
    "        .appName(\"proj\")\\\n",
    "        .config(\"spark.some.config.option\", \"some-value\")\\\n",
    "        .getOrCreate()\n",
    "\n",
    "sc = spark.sparkContext\n",
    "sc"
   ]
  },
  {
   "cell_type": "markdown",
   "metadata": {},
   "source": [
    "## Load and preprocess the data "
   ]
  },
  {
   "cell_type": "code",
   "execution_count": 3,
   "metadata": {},
   "outputs": [],
   "source": [
    "data311 = spark.read.format(\"csv\") \\\n",
    "    .option(\"header\", \"true\") \\\n",
    "    .load(\"Data_Final/*.csv\")\n",
    "infer_schema = \"true\"\n",
    "first_row_is_header = \"true\"\n",
    "delimiter = \",\"\n",
    "data311.registerTempTable(\"data311\")"
   ]
  },
  {
   "cell_type": "code",
   "execution_count": 4,
   "metadata": {},
   "outputs": [
    {
     "data": {
      "text/plain": [
       "DataFrame[Created Date: string, Closed Date: string, Complaint Type: string, Descriptor: string, Location Type: string, Incident Zip: string, City: string, Status: string, Resolution Description: string, Resolution Action Updated Date: string, Borough: string, Latitude: string, Longitude: string, Complaint_Type_Groups: string, Resolution_Type_Groups: string, Location_Type_Groups: string, Resolution_Time_Secs: string, Resolution_Time_Mins: string, Resolution_Time_Hours: string]"
      ]
     },
     "execution_count": 4,
     "metadata": {},
     "output_type": "execute_result"
    }
   ],
   "source": [
    "data311"
   ]
  },
  {
   "cell_type": "markdown",
   "metadata": {},
   "source": [
    "Create day of the week column and Resolve zipcode and day column to integers"
   ]
  },
  {
   "cell_type": "code",
   "execution_count": 5,
   "metadata": {},
   "outputs": [],
   "source": [
    "data311 = data311.withColumn(\"ResTimeH\", data311.Resolution_Time_Hours.cast('int'))\n",
    "data311 = data311.withColumn('day_of_week',dayofweek(data311['Created Date']))\n",
    "data311 = data311.withColumn(\"Zip\", data311[\"Incident Zip\"].cast('int'))\n",
    "#data311 = data311.withColumn(\"Lati\", data311[\"Latitude\"].cast('int'))\n",
    "#data311 = data311.withColumn(\"Long\", data311[\"Longitude\"].cast('int'))"
   ]
  },
  {
   "cell_type": "markdown",
   "metadata": {},
   "source": [
    "Outlier removal - removing rows with resolution time less than 0 and greater than 99"
   ]
  },
  {
   "cell_type": "code",
   "execution_count": 6,
   "metadata": {},
   "outputs": [],
   "source": [
    "data311 = data311.filter(data311.ResTimeH >0) \n",
    "data311 = data311.filter(data311.ResTimeH <36) "
   ]
  },
  {
   "cell_type": "markdown",
   "metadata": {},
   "source": [
    "Removing null values "
   ]
  },
  {
   "cell_type": "code",
   "execution_count": 7,
   "metadata": {},
   "outputs": [],
   "source": [
    "data311 = data311.filter(data311[\"Zip\"]. isNotNull())\n",
    "data311 = data311.filter(data311[\"Complaint_Type_Groups\"]. isNotNull())\n",
    "data311 = data311.filter(data311[\"day_of_week\"]. isNotNull())\n",
    "#data311 = data311.filter(data311[\"Lati\"]. isNotNull())\n",
    "#data311 = data311.filter(data311[\"Long\"]. isNotNull())"
   ]
  },
  {
   "cell_type": "markdown",
   "metadata": {},
   "source": [
    "### Analyzing Resolution Times "
   ]
  },
  {
   "cell_type": "code",
   "execution_count": 8,
   "metadata": {},
   "outputs": [
    {
     "data": {
      "image/png": "[encoded data removed]",
      "text/plain": [
       "<Figure size 1440x720 with 1 Axes>"
      ]
     },
     "metadata": {
      "needs_background": "light"
     },
     "output_type": "display_data"
    }
   ],
   "source": [
    "ResTimeH_counts = data311.groupBy(\"ResTimeH\").count().orderBy(\"ResTimeH\")\n",
    "plot = ResTimeH_counts.toPandas()\n",
    "plot.plot.bar(x=\"ResTimeH\", y=\"count\", rot=0, figsize=(20, 10), title = \"Resolution time\");"
   ]
  },
  {
   "cell_type": "markdown",
   "metadata": {},
   "source": [
    "### Spliting output column (Resolution time) into buckets or categories"
   ]
  },
  {
   "cell_type": "code",
   "execution_count": 10,
   "metadata": {},
   "outputs": [
    {
     "name": "stdout",
     "output_type": "stream",
     "text": [
      "+----------+------+\n",
      "|categories| count|\n",
      "+----------+------+\n",
      "|       0.0| 68191|\n",
      "|       1.0|102978|\n",
      "|       2.0| 92011|\n",
      "+----------+------+\n",
      "\n"
     ]
    }
   ],
   "source": [
    "bucketizer = Bucketizer(splits=[ 0,2,6,float('Inf') ],inputCol=\"ResTimeH\", outputCol=\"categories\")\n",
    "data31 = bucketizer.setHandleInvalid(\"keep\").transform(data311)\n",
    "data31.groupBy(\"categories\").count().show()"
   ]
  },
  {
   "cell_type": "markdown",
   "metadata": {},
   "source": [
    "### Dataframe with required columns "
   ]
  },
  {
   "cell_type": "code",
   "execution_count": 11,
   "metadata": {},
   "outputs": [
    {
     "name": "stdout",
     "output_type": "stream",
     "text": [
      "+-----+---------------------+-----------+----------+\n",
      "|  Zip|Complaint_Type_Groups|day_of_week|categories|\n",
      "+-----+---------------------+-----------+----------+\n",
      "|10034|                Noise|          5|       2.0|\n",
      "|11105|   Parking Conditions|          5|       2.0|\n",
      "|10458|   Parking Conditions|          5|       2.0|\n",
      "|10461|   Parking Conditions|          5|       2.0|\n",
      "|11373|   Parking Conditions|          5|       2.0|\n",
      "+-----+---------------------+-----------+----------+\n",
      "only showing top 5 rows\n",
      "\n"
     ]
    }
   ],
   "source": [
    "X = data31['Zip', 'Complaint_Type_Groups','day_of_week', 'categories']\n",
    "X.show(5)"
   ]
  },
  {
   "cell_type": "markdown",
   "metadata": {},
   "source": [
    "# Logistic Regression"
   ]
  },
  {
   "cell_type": "markdown",
   "metadata": {},
   "source": [
    "###### Stage 1 - \n",
    "Index the string in \"Complaint type groups\""
   ]
  },
  {
   "cell_type": "code",
   "execution_count": 12,
   "metadata": {},
   "outputs": [
    {
     "name": "stdout",
     "output_type": "stream",
     "text": [
      "+-----+---------------------+-----------+----------+-------------+\n",
      "|  Zip|Complaint_Type_Groups|day_of_week|categories|categoryIndex|\n",
      "+-----+---------------------+-----------+----------+-------------+\n",
      "|10034|                Noise|          5|       2.0|          1.0|\n",
      "|11105|   Parking Conditions|          5|       2.0|          0.0|\n",
      "|10458|   Parking Conditions|          5|       2.0|          0.0|\n",
      "|10461|   Parking Conditions|          5|       2.0|          0.0|\n",
      "|11373|   Parking Conditions|          5|       2.0|          0.0|\n",
      "+-----+---------------------+-----------+----------+-------------+\n",
      "only showing top 5 rows\n",
      "\n"
     ]
    }
   ],
   "source": [
    "indexer = StringIndexer(inputCol=\"Complaint_Type_Groups\", outputCol=\"categoryIndex\")\n",
    "stage1_data = indexer.fit(X).transform(X)\n",
    "stage1_data.show(5)"
   ]
  },
  {
   "cell_type": "markdown",
   "metadata": {},
   "source": [
    "###### Stage 2 -\n",
    "One hot encode the indexed complaint type group"
   ]
  },
  {
   "cell_type": "code",
   "execution_count": 13,
   "metadata": {},
   "outputs": [
    {
     "name": "stdout",
     "output_type": "stream",
     "text": [
      "+-----+---------------------+-----------+----------+-------------+-------------+\n",
      "|  Zip|Complaint_Type_Groups|day_of_week|categories|categoryIndex|  categoryVec|\n",
      "+-----+---------------------+-----------+----------+-------------+-------------+\n",
      "|10034|                Noise|          5|       2.0|          1.0|(5,[1],[1.0])|\n",
      "|11105|   Parking Conditions|          5|       2.0|          0.0|(5,[0],[1.0])|\n",
      "|10458|   Parking Conditions|          5|       2.0|          0.0|(5,[0],[1.0])|\n",
      "|10461|   Parking Conditions|          5|       2.0|          0.0|(5,[0],[1.0])|\n",
      "|11373|   Parking Conditions|          5|       2.0|          0.0|(5,[0],[1.0])|\n",
      "+-----+---------------------+-----------+----------+-------------+-------------+\n",
      "only showing top 5 rows\n",
      "\n"
     ]
    }
   ],
   "source": [
    "encoder = OneHotEncoderEstimator(inputCols=[\"categoryIndex\"],outputCols=[\"categoryVec\"])\n",
    "stage2_data = encoder.fit(stage1_data).transform(stage1_data)\n",
    "stage2_data.show(5)"
   ]
  },
  {
   "cell_type": "markdown",
   "metadata": {},
   "source": [
    "###### Stage 3 -\n",
    "Transform input features into vectors"
   ]
  },
  {
   "cell_type": "code",
   "execution_count": 14,
   "metadata": {},
   "outputs": [
    {
     "name": "stdout",
     "output_type": "stream",
     "text": [
      "+-----+---------------------+-----------+----------+-------------+-------------+--------------------+\n",
      "|  Zip|Complaint_Type_Groups|day_of_week|categories|categoryIndex|  categoryVec|            features|\n",
      "+-----+---------------------+-----------+----------+-------------+-------------+--------------------+\n",
      "|10034|                Noise|          5|       2.0|          1.0|(5,[1],[1.0])|(7,[0,1,3],[10034...|\n",
      "|11105|   Parking Conditions|          5|       2.0|          0.0|(5,[0],[1.0])|(7,[0,1,2],[11105...|\n",
      "|10458|   Parking Conditions|          5|       2.0|          0.0|(5,[0],[1.0])|(7,[0,1,2],[10458...|\n",
      "|10461|   Parking Conditions|          5|       2.0|          0.0|(5,[0],[1.0])|(7,[0,1,2],[10461...|\n",
      "|11373|   Parking Conditions|          5|       2.0|          0.0|(5,[0],[1.0])|(7,[0,1,2],[11373...|\n",
      "+-----+---------------------+-----------+----------+-------------+-------------+--------------------+\n",
      "only showing top 5 rows\n",
      "\n"
     ]
    }
   ],
   "source": [
    "assembler = VectorAssembler(inputCols=['Zip', 'day_of_week', 'categoryVec'],outputCol=\"features\")\n",
    "stage3_data = assembler.transform(stage2_data)\n",
    "stage3_data.show(5)"
   ]
  },
  {
   "cell_type": "markdown",
   "metadata": {},
   "source": [
    "###### Stage 4 -\n",
    "Standard scale the feature vector"
   ]
  },
  {
   "cell_type": "code",
   "execution_count": 15,
   "metadata": {},
   "outputs": [
    {
     "name": "stdout",
     "output_type": "stream",
     "text": [
      "+-----+---------------------+-----------+----------+-------------+-------------+--------------------+--------------------+\n",
      "|  Zip|Complaint_Type_Groups|day_of_week|categories|categoryIndex|  categoryVec|            features|     Scaled_features|\n",
      "+-----+---------------------+-----------+----------+-------------+-------------+--------------------+--------------------+\n",
      "|10034|                Noise|          5|       2.0|          1.0|(5,[1],[1.0])|(7,[0,1,3],[10034...|(7,[0,1,3],[17.28...|\n",
      "|11105|   Parking Conditions|          5|       2.0|          0.0|(5,[0],[1.0])|(7,[0,1,2],[11105...|(7,[0,1,2],[19.12...|\n",
      "|10458|   Parking Conditions|          5|       2.0|          0.0|(5,[0],[1.0])|(7,[0,1,2],[10458...|(7,[0,1,2],[18.01...|\n",
      "|10461|   Parking Conditions|          5|       2.0|          0.0|(5,[0],[1.0])|(7,[0,1,2],[10461...|(7,[0,1,2],[18.02...|\n",
      "|11373|   Parking Conditions|          5|       2.0|          0.0|(5,[0],[1.0])|(7,[0,1,2],[11373...|(7,[0,1,2],[19.59...|\n",
      "+-----+---------------------+-----------+----------+-------------+-------------+--------------------+--------------------+\n",
      "only showing top 5 rows\n",
      "\n"
     ]
    }
   ],
   "source": [
    "standardscaler=StandardScaler().setInputCol(\"features\").setOutputCol(\"Scaled_features\")\n",
    "stage4_data = standardscaler.fit(stage3_data).transform(stage3_data)\n",
    "stage4_data.show(5)"
   ]
  },
  {
   "cell_type": "markdown",
   "metadata": {},
   "source": [
    "###### Stage 5 -\n",
    "Logistic regression on the scaled feature vector to predict the categories"
   ]
  },
  {
   "cell_type": "code",
   "execution_count": 16,
   "metadata": {},
   "outputs": [],
   "source": [
    "train, test = stage4_data.randomSplit([0.9, 0.1], seed = 2018)\n",
    "mlr = LogisticRegression(labelCol=\"categories\",featuresCol=\"Scaled_features\")\n",
    "mlrModel = mlr.fit(train)"
   ]
  },
  {
   "cell_type": "code",
   "execution_count": null,
   "metadata": {},
   "outputs": [],
   "source": []
  },
  {
   "cell_type": "markdown",
   "metadata": {},
   "source": [
    "Testing Logistic Regressor model on test data"
   ]
  },
  {
   "cell_type": "code",
   "execution_count": 18,
   "metadata": {},
   "outputs": [
    {
     "name": "stdout",
     "output_type": "stream",
     "text": [
      "+----------+-----+\n",
      "|prediction|count|\n",
      "+----------+-----+\n",
      "|       0.0|    9|\n",
      "|       1.0|17524|\n",
      "|       2.0| 8899|\n",
      "+----------+-----+\n",
      "\n",
      "+----------+-----+\n",
      "|categories|count|\n",
      "+----------+-----+\n",
      "|       0.0| 6902|\n",
      "|       1.0|10282|\n",
      "|       2.0| 9248|\n",
      "+----------+-----+\n",
      "\n"
     ]
    }
   ],
   "source": [
    "predictions = mlrModel.transform(test)\n",
    "predictions.groupBy(\"prediction\").count().show()\n",
    "predictions.groupBy(\"categories\").count().show()"
   ]
  },
  {
   "cell_type": "markdown",
   "metadata": {},
   "source": [
    "# Pipeline"
   ]
  },
  {
   "cell_type": "code",
   "execution_count": 19,
   "metadata": {},
   "outputs": [],
   "source": [
    "stage_1 = StringIndexer(inputCol=\"Complaint_Type_Groups\", outputCol=\"categoryIndex\")\n",
    "\n",
    "stage_2 = OneHotEncoderEstimator(inputCols=[\"categoryIndex\"],outputCols=[\"categoryVec\"])\n",
    "\n",
    "stage_3 = VectorAssembler(inputCols=['Zip', 'day_of_week', 'categoryVec'],outputCol=\"features\")\n",
    "\n",
    "stage_4 = StandardScaler().setInputCol(\"features\").setOutputCol(\"Scaled_ip_features\")\n",
    "\n",
    "stage_5 = LogisticRegression(labelCol=\"categories\",featuresCol=\"Scaled_ip_features\")\n",
    "\n",
    "# setup the pipeline\n",
    "pipeline = Pipeline(stages=[stage_1, stage_2, stage_3, stage_4, stage_5])\n",
    "\n",
    "# fit the pipeline model and transform the data as defined\n",
    "pipeline_model = pipeline.fit(X)"
   ]
  },
  {
   "cell_type": "markdown",
   "metadata": {},
   "source": [
    "### Testing for user-defined input"
   ]
  },
  {
   "cell_type": "code",
   "execution_count": 28,
   "metadata": {},
   "outputs": [],
   "source": [
    "def check_prediction(ans):\n",
    "    if (ans[0]==0.0):\n",
    "        prediction=\"Your complaint will be resolved within 2 hours.\"\n",
    "    elif (ans[0]==1.0):\n",
    "        prediction=\"Your complaint will be resolved within 2-6 hours.\"\n",
    "    else:\n",
    "        prediction=\"Your complaint will be resolved anytime after 6 hours\"\n",
    "    return prediction"
   ]
  },
  {
   "cell_type": "markdown",
   "metadata": {},
   "source": [
    "###### TEST 1"
   ]
  },
  {
   "cell_type": "code",
   "execution_count": 41,
   "metadata": {},
   "outputs": [
    {
     "name": "stdout",
     "output_type": "stream",
     "text": [
      "+-----+---------------------+-----------+\n",
      "|  Zip|Complaint_Type_Groups|day_of_week|\n",
      "+-----+---------------------+-----------+\n",
      "|11210|                Noise|          3|\n",
      "+-----+---------------------+-----------+\n",
      "\n"
     ]
    }
   ],
   "source": [
    "zipcode = 11210\n",
    "complaint = \"Noise\"\n",
    "day = 3\n",
    "\n",
    "input_variables = pd.DataFrame([[zipcode, complaint, day]], columns=['Zip', 'Complaint_Type_Groups', 'day_of_week'])\n",
    "input_variables = spark.createDataFrame(input_variables)\n",
    "input_variables.show()"
   ]
  },
  {
   "cell_type": "markdown",
   "metadata": {},
   "source": [
    "Select the predicted category and resolve it as string"
   ]
  },
  {
   "cell_type": "code",
   "execution_count": 42,
   "metadata": {},
   "outputs": [
    {
     "name": "stdout",
     "output_type": "stream",
     "text": [
      "Your complaint will be resolved anytime after 6 hours\n"
     ]
    }
   ],
   "source": [
    "transformed = pipeline_model.transform(input_variables)\n",
    "ans = transformed.select(collect_list('prediction')).first()[0]\n",
    "prediction = check_prediction(ans)\n",
    "print(prediction)"
   ]
  },
  {
   "cell_type": "markdown",
   "metadata": {},
   "source": [
    "###### TEST 2"
   ]
  },
  {
   "cell_type": "code",
   "execution_count": 37,
   "metadata": {},
   "outputs": [
    {
     "name": "stdout",
     "output_type": "stream",
     "text": [
      "+-----+---------------------+-----------+\n",
      "|  Zip|Complaint_Type_Groups|day_of_week|\n",
      "+-----+---------------------+-----------+\n",
      "|11209|              Traffic|          3|\n",
      "+-----+---------------------+-----------+\n",
      "\n"
     ]
    }
   ],
   "source": [
    "zipcode = 11209\n",
    "complaint = \"Traffic\"\n",
    "day = 3\n",
    "\n",
    "input_variables = pd.DataFrame([[zipcode, complaint, day]], columns=['Zip', 'Complaint_Type_Groups', 'day_of_week'])\n",
    "input_variables = spark.createDataFrame(input_variables)\n",
    "input_variables.show()"
   ]
  },
  {
   "cell_type": "code",
   "execution_count": 38,
   "metadata": {},
   "outputs": [
    {
     "name": "stdout",
     "output_type": "stream",
     "text": [
      "Your complaint will be resolved within 2-6 hours.\n"
     ]
    }
   ],
   "source": [
    "transformed = pipeline_model.transform(input_variables)\n",
    "ans = transformed.select(collect_list('prediction')).first()[0]\n",
    "prediction = check_prediction(ans)\n",
    "print(prediction)"
   ]
  },
  {
   "cell_type": "markdown",
   "metadata": {},
   "source": [
    "##### TEST 3"
   ]
  },
  {
   "cell_type": "code",
   "execution_count": 29,
   "metadata": {},
   "outputs": [
    {
     "name": "stdout",
     "output_type": "stream",
     "text": [
      "+---+---------------------+-----------+\n",
      "|Zip|Complaint_Type_Groups|day_of_week|\n",
      "+---+---------------------+-----------+\n",
      "| 83|                Noise|          5|\n",
      "+---+---------------------+-----------+\n",
      "\n"
     ]
    }
   ],
   "source": [
    "zipcode = 83\n",
    "complaint = \"Noise\"\n",
    "day = 5\n",
    "\n",
    "input_variables = pd.DataFrame([[zipcode, complaint, day]], columns=['Zip', 'Complaint_Type_Groups', 'day_of_week'])\n",
    "input_variables = spark.createDataFrame(input_variables)\n",
    "input_variables.show()"
   ]
  },
  {
   "cell_type": "code",
   "execution_count": 30,
   "metadata": {},
   "outputs": [
    {
     "name": "stdout",
     "output_type": "stream",
     "text": [
      "Your complaint will be resolved within 2 hours.\n"
     ]
    }
   ],
   "source": [
    "transformed = pipeline_model.transform(input_variables)\n",
    "ans = transformed.select(collect_list('prediction')).first()[0]\n",
    "prediction = check_prediction(ans)\n",
    "print(prediction)"
   ]
  }
 ],
 "metadata": {
  "kernelspec": {
   "display_name": "Python 3",
   "language": "python",
   "name": "python3"
  },
  "language_info": {
   "codemirror_mode": {
    "name": "ipython",
    "version": 3
   },
   "file_extension": ".py",
   "mimetype": "text/x-python",
   "name": "python",
   "nbconvert_exporter": "python",
   "pygments_lexer": "ipython3",
   "version": "3.7.6"
  }
 },
 "nbformat": 4,
 "nbformat_minor": 2
}
